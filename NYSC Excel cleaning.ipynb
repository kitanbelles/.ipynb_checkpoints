{
 "cells": [
  {
   "cell_type": "code",
   "execution_count": 2,
   "metadata": {},
   "outputs": [],
   "source": [
    "%config IPCompleter.greedy=True\n",
    "import numpy as np \n",
    "import pandas as pd \n",
    "import matplotlib.pyplot as plt\n",
    "from matplotlib.ticker import MaxNLocator\n",
    "from collections import namedtuple"
   ]
  },
  {
   "cell_type": "code",
   "execution_count": 1,
   "metadata": {},
   "outputs": [
    {
     "ename": "NameError",
     "evalue": "name 'pd' is not defined",
     "output_type": "error",
     "traceback": [
      "\u001b[1;31m---------------------------------------------------------------------------\u001b[0m",
      "\u001b[1;31mNameError\u001b[0m                                 Traceback (most recent call last)",
      "\u001b[1;32m<ipython-input-1-e0d14feb74ce>\u001b[0m in \u001b[0;36m<module>\u001b[1;34m\u001b[0m\n\u001b[0;32m      1\u001b[0m \u001b[1;31m# Checking for missing records\u001b[0m\u001b[1;33m\u001b[0m\u001b[1;33m\u001b[0m\u001b[1;33m\u001b[0m\u001b[0m\n\u001b[0;32m      2\u001b[0m \u001b[1;33m\u001b[0m\u001b[0m\n\u001b[1;32m----> 3\u001b[1;33m incompletestate = pd.concat([pd.read_excel(\"test.xlsx\", sheet_name=i, index_col = 0, dtype = {\"State Code\": str, \"Full Name\": str, \"Callup No.\": str, \"CNS No.\": str} )\n\u001b[0m\u001b[0;32m      4\u001b[0m         [pd.read_excel(\"test.xlsx\", sheet_name=i, index_col = 0, dtype = {\"State Code\": str, \"Full Name\": str, \"Callup No.\": str, \"CNS No.\": str} )\n\u001b[0;32m      5\u001b[0m         [\"State\"].isnull()]\n",
      "\u001b[1;31mNameError\u001b[0m: name 'pd' is not defined"
     ]
    }
   ],
   "source": [
    "# Checking for missing records\n",
    "\n",
    "incompletestate = pd.concat([pd.read_excel(\"test.xlsx\", sheet_name=i, index_col = 0, dtype = {\"State Code\": str, \"Full Name\": str, \"Callup No.\": str, \"CNS No.\": str} )\n",
    "        [pd.read_excel(\"test.xlsx\", sheet_name=i, index_col = 0, dtype = {\"State Code\": str, \"Full Name\": str, \"Callup No.\": str, \"CNS No.\": str} )\n",
    "        [\"State\"].isnull()]\n",
    "        \n",
    "        for i in range(3,6)], sort=False)\n"
   ]
  },
  {
   "cell_type": "code",
   "execution_count": 7,
   "metadata": {},
   "outputs": [
    {
     "name": "stdout",
     "output_type": "stream",
     "text": [
      "State Code    True\n",
      "Full Name     True\n",
      "Callup No.    True\n",
      "CNS No.       True\n",
      "State         True\n",
      "Year          True\n",
      "dtype: bool\n",
      "State Code    True\n",
      "Full Name     True\n",
      "Callup No.    True\n",
      "CNS No.       True\n",
      "State         True\n",
      "Year          True\n",
      "dtype: bool\n",
      "State Code    True\n",
      "Full Name     True\n",
      "Callup No.    True\n",
      "CNS No.       True\n",
      "State         True\n",
      "Year          True\n",
      "dtype: bool\n",
      "State Code    True\n",
      "Full Name     True\n",
      "Callup No.    True\n",
      "CNS No.       True\n",
      "State         True\n",
      "Year          True\n",
      "dtype: bool\n"
     ]
    }
   ],
   "source": [
    "# Checking for duplicate records\n",
    "\n",
    "dupstatecode=pd.concat([pd.read_excel(\"test.xlsx\", sheet_name=i, index_col = 0, dtype = {\"State Code\": str, \"Full Name\": str, \"Callup No.\": str, \"CNS No.\": str} )\n",
    "        [pd.read_excel(\"test.xlsx\", sheet_name=i, index_col = 0, dtype = {\"State Code\": str, \"Full Name\": str, \"Callup No.\": str, \"CNS No.\": str} )\n",
    "        .duplicated(\"State Code\", keep=False)]\n",
    "        \n",
    "        for i in range(3,6)], sort=False)\n",
    "\n",
    "\n",
    "dupname=pd.concat([pd.read_excel(\"test.xlsx\", sheet_name=i, index_col = 0, dtype = {\"State Code\": str, \"Full Name\": str, \"Callup No.\": str, \"CNS No.\": str} )\n",
    "        [pd.read_excel(\"test.xlsx\", sheet_name=i, index_col = 0, dtype = {\"State Code\": str, \"Full Name\": str, \"Callup No.\": str, \"CNS No.\": str} )\n",
    "        .duplicated(\"Full Name\", keep=False)]\n",
    "        \n",
    "        for i in range(3,6)], sort=False)\n",
    "\n",
    "\n",
    "dupcallup=pd.concat([pd.read_excel(\"test.xlsx\", sheet_name=i, index_col = 0, dtype = {\"State Code\": str, \"Full Name\": str, \"Callup No.\": str, \"CNS No.\": str} )\n",
    "        [pd.read_excel(\"test.xlsx\", sheet_name=i, index_col = 0, dtype = {\"State Code\": str, \"Full Name\": str, \"Callup No.\": str, \"CNS No.\": str} )\n",
    "        .duplicated(\"Callup No.\", keep=False)]\n",
    "        \n",
    "        for i in range(3,6)], sort=False)\n",
    "\n",
    "\n",
    "dupcert=pd.concat([pd.read_excel(\"test.xlsx\", sheet_name=i, index_col = 0, dtype = {\"State Code\": str, \"Full Name\": str, \"Callup No.\": str, \"CNS No.\": str} )\n",
    "        [pd.read_excel(\"test.xlsx\", sheet_name=i, index_col = 0, dtype = {\"State Code\": str, \"Full Name\": str, \"Callup No.\": str, \"CNS No.\": str} )\n",
    "        .duplicated(\"CNS No.\", keep=False)]\n",
    "        \n",
    "        for i in range(3,6)], sort=False)\n",
    "\n",
    "#myfile=pd.read_excel(\"test.xlsx\", sheet_name=2, index_col = 0, dtype = {\"State Code\": str, \"Full Name\": str, \"Callup No.\": str, \"CNS No.\": str} )\n",
    "#dup = myfile.duplicated(\"State Code\", keep=False)\n",
    "\n",
    "print(dupstatecode.any())\n",
    "print(dupcert.any())\n",
    "print(dupcallup.any())\n",
    "print(dupname.any())\n",
    "\n",
    "#dup = pd.read_excel(\"test.xlsx\", sheet_name=2, index_col = 0, dtype = {\"State Code\": str, \"Full Name\": str, \n",
    "#                                                                       \"Callup No.\": str, \"CNS No.\": str} ).duplicated(keep=False)"
   ]
  },
  {
   "cell_type": "code",
   "execution_count": 8,
   "metadata": {},
   "outputs": [
    {
     "name": "stdout",
     "output_type": "stream",
     "text": [
      "          State Code                  Full Name          Callup No.  \\\n",
      "S/N                                                                   \n",
      "1304976  TR/16A/1537       Ibadin Franca Akhere  TR/AUP/2016/056825   \n",
      "1304975  TR/16A/1536        Okeke Onyinye Ndidi  TR/APO/2016/026530   \n",
      "1304974  TR/16A/1535         Ibadin Odion Freda  TR/AUP/2016/057462   \n",
      "1304972  TR/16A/1533              Modu Babagana  TR/UMM/2016/067953   \n",
      "1304971  TR/16A/1532  Ezeanyika Olivia Chinenye  TR/UNN/2016/032387   \n",
      "\n",
      "            CNS No. State                     Year  \n",
      "S/N                                                 \n",
      "1304976  A003330537   NaN  Friday, January 1, 2016  \n",
      "1304975  A003330536   NaN  Friday, January 1, 2016  \n",
      "1304974  A003330535   NaN  Friday, January 1, 2016  \n",
      "1304972  A003330533   NaN  Friday, January 1, 2016  \n",
      "1304971  A003330532   NaN  Friday, January 1, 2016  \n",
      "          State Code                  Full Name          Callup No.  \\\n",
      "S/N                                                                   \n",
      "1295937  TR/14B/1972  Akinnibo Oyegoke Jeremaih  TR/OWO/2014/151937   \n",
      "1294937  TR/14B/0972  Akinnibo Oyegoke Jeremiah  TR/OWO/2014/151937   \n",
      "1310883  YB/10C/1012            Mare Habib Musa  YB/UMM/2010/187992   \n",
      "1310734  YB/10C/0863     Yusuf Salisu Abdullahi  YB/BUK/2010/210778   \n",
      "1310375  YB/10C/0504       Tijjani Salim Sharif  YB/BUK/2010/210778   \n",
      "\n",
      "            CNS No. State                        Year  \n",
      "S/N                                                    \n",
      "1295937  A002863972    BA  Wednesday, January 1, 2014  \n",
      "1294937  A002862972   NaN  Wednesday, January 1, 2014  \n",
      "1310883  A001954813   NaN     Friday, January 1, 2010  \n",
      "1310734  A001954664   NaN     Friday, January 1, 2010  \n",
      "1310375  A001937304   NaN     Friday, January 1, 2010  \n",
      "          State Code                     Full Name          Callup No.  \\\n",
      "S/N                                                                      \n",
      "1302674  TR/15B/2001      Auwal Muhammad Abdullahi  TR/KPM/2015/166779   \n",
      "1302679  TR/15B/2006           Chia Ashidoo Vivian  TR/BUM/2015/137967   \n",
      "1302786  TR/15B/2113            Kolawole Oluwaseun  TR/OUA/2015/174695   \n",
      "1302686  TR/15B/2013       Popoola Oladayo Timothy  TR/OUA/2015/189474   \n",
      "1302796  TR/15B/2123  Adesanya Kanyinsola Damilola  TR/LAG/2015/202578   \n",
      "\n",
      "            CNS No. State                       Year  \n",
      "S/N                                                   \n",
      "1302674  A003197351    ZM  Thursday, January 1, 2015  \n",
      "1302679  A003197356    RV  Thursday, January 1, 2015  \n",
      "1302786  A003197352    OY  Thursday, January 1, 2015  \n",
      "1302686  A003197363    OY  Thursday, January 1, 2015  \n",
      "1302796  A003197362    OS  Thursday, January 1, 2015  \n",
      "          State Code       Full Name          Callup No.     CNS No. State  \\\n",
      "S/N                                                                          \n",
      "1293607  TR/14A/0695     Bello Kabir  TR/KTU/2014/030062  A002827695    ZM   \n",
      "1293218  TR/14A/0306  Mohammed Usman  TR/KUS/2014/044563  A002826306    ZM   \n",
      "1303255  TR/15B/2582   Usman Ibrahim  TR/ABU/2015/147062  A003244832    ZM   \n",
      "1302669  TR/15B/1996   Aliyu Ibrahim  TR/FPN/2015/191406  A003186996    ZM   \n",
      "1300979  TR/15B/0306  Muazu Abubakar  TR/ABU/2015/115349  A003185306    ZM   \n",
      "\n",
      "                               Year  \n",
      "S/N                                  \n",
      "1293607  Wednesday, January 1, 2014  \n",
      "1293218  Wednesday, January 1, 2014  \n",
      "1303255   Thursday, January 1, 2015  \n",
      "1302669   Thursday, January 1, 2015  \n",
      "1300979   Thursday, January 1, 2015  \n",
      "          State Code                  Full Name          Callup No.  \\\n",
      "S/N                                                                   \n",
      "1316131  YB/12A/2435                        nan  YB/ASP/2012/065781   \n",
      "1317002  YB/12B/1020  Fawole Olugbenga Olayinka  YB/IFE/2012/157902   \n",
      "1317003  YB/12B/1020       Ogbogara Tamunotonye  YB/CEP/2012/183868   \n",
      "1316130  YB/12A/2435                        nan                 nan   \n",
      "1322632  YB/14B/1204            Balarabe Muktar  YB/ABU/2014/086760   \n",
      "\n",
      "            CNS No. State                        Year  \n",
      "S/N                                                    \n",
      "1316131  A002878598   NaN     Sunday, January 1, 2012  \n",
      "1317002     2300818   NaN     Sunday, January 1, 2012  \n",
      "1317003     2124887   NaN     Sunday, January 1, 2012  \n",
      "1316130         nan   NaN                         NaN  \n",
      "1322632  A002731806   NaN  Wednesday, January 1, 2014  \n"
     ]
    }
   ],
   "source": [
    "print(incompletestate.head())\n",
    "print(dupcallup.head())\n",
    "print(dupcert.head())\n",
    "print(dupname.head())\n",
    "print(dupstatecode.head())"
   ]
  },
  {
   "cell_type": "code",
   "execution_count": 28,
   "metadata": {},
   "outputs": [],
   "source": [
    "# Writing to file\n",
    "\n",
    "with pd.ExcelWriter (\"Duplicated records.xlsx\") as writer: \n",
    "    dupstatecode.to_excel(writer, sheet_name = \"dupStateCode\")\n",
    "    dupcert.to_excel(writer, sheet_name = \"dupCertNum\")\n",
    "    dupcallup.to_excel(writer, sheet_name = \"dupCallup\")\n",
    "    dupname.to_excel(writer, sheet_name = \"dupName\")\n",
    "    \n",
    "incompletestate.to_excel(\"missing records.xlsx\", sheet_name = \"noState\")"
   ]
  },
  {
   "cell_type": "code",
   "execution_count": null,
   "metadata": {},
   "outputs": [],
   "source": [
    "myfil=pd.read_excel(\"NYSC workable.xlsx\", sheet_name=0, index_col= 'index', dtype={\"name\": str,\"statecode\": str,\"callupno\": str,\"cns_no\": str,\"year\": str,\"full_callup\": str})"
   ]
  },
  {
   "cell_type": "code",
   "execution_count": 10,
   "metadata": {},
   "outputs": [
    {
     "name": "stdout",
     "output_type": "stream",
     "text": [
      "            sn                  name  statecode            callupno  \\\n",
      "index                                                                 \n",
      "1       582836                   nan        OD/                 nan   \n",
      "2       933056     Gabriel  John Oko        nan                 nan   \n",
      "3       933057  Aliyu Muhammad Aminu        nan  BO/ATB/2013/089167   \n",
      "4       933077    Dekitted  Dekitted   DEKITTED        ED/ DEKITTED   \n",
      "5      1184529                   nan  DEKIT1990                 nan   \n",
      "\n",
      "           cns_no state  sheet year batch full_callup deployedstate  \n",
      "index                                                                \n",
      "1             nan   NaN     31  nan   NaN         nan           nan  \n",
      "2             nan   NaN      1  nan   NaN         nan           nan  \n",
      "3      A002528682   NaN      1  nan   NaN         nan           nan  \n",
      "4             nan   NaN      1  nan   NaN         nan           nan  \n",
      "5        DEKITTED   NaN     10  nan   NaN         nan           nan  \n"
     ]
    }
   ],
   "source": [
    "print(myfil.head())"
   ]
  },
  {
   "cell_type": "code",
   "execution_count": 2,
   "metadata": {
    "scrolled": true
   },
   "outputs": [
    {
     "data": {
      "image/png": "[encoded data removed]",
      "text/plain": [
       "<Figure size 432x288 with 1 Axes>"
      ]
     },
     "metadata": {
      "needs_background": "light"
     },
     "output_type": "display_data"
    }
   ],
   "source": [
    "n_groups = 5\n",
    "\n",
    "means_men = (20, 35, 30, 35, 27)\n",
    "std_men = (2, 3, 4, 1, 2)\n",
    "\n",
    "means_women = (25, 32, 34, 20, 25)\n",
    "std_women = (3, 5, 2, 3, 3)\n",
    "\n",
    "fig, ax = plt.subplots()\n",
    "\n",
    "index = np.arange(n_groups)\n",
    "bar_width = 0.35\n",
    "\n",
    "opacity = 0.4\n",
    "error_config = {'ecolor': '0.3'}\n",
    "\n",
    "rects1 = ax.bar(index, means_men, bar_width,\n",
    "                alpha=opacity, color='b',\n",
    "                yerr=std_men, error_kw=error_config,\n",
    "                label='Men')\n",
    "\n",
    "rects2 = ax.bar(index + bar_width, means_women, bar_width,\n",
    "                alpha=opacity, color='r',\n",
    "                yerr=std_women, error_kw=error_config,\n",
    "                label='Women')\n",
    "\n",
    "ax.set_xlabel('Group')\n",
    "ax.set_ylabel('Scores')\n",
    "ax.set_title('Scores by group and gender')\n",
    "ax.set_xticks(index + bar_width / 2)\n",
    "ax.set_xticklabels(('A', 'B', 'C', 'D', 'E'))\n",
    "ax.legend()\n",
    "\n",
    "fig.tight_layout()\n",
    "plt.show()"
   ]
  },
  {
   "cell_type": "code",
   "execution_count": 7,
   "metadata": {},
   "outputs": [],
   "source": [
    "myfil=pd.read_excel(\"NYSC workable.xlsx\", sheet_name=0, index_col= 'index', dtype={\"name\": str,\"statecode\": str,\"callupno\": str,\"cns_no\": str,\"year\": str,\"full_callup\": str})"
   ]
  },
  {
   "cell_type": "code",
   "execution_count": 19,
   "metadata": {},
   "outputs": [],
   "source": [
    "bad = myfil[\"deployedstate\"].isnull()\n",
    "baddata=myfil[bad]\n",
    "baddata.to_excel(\"bad.xlsx\")"
   ]
  },
  {
   "cell_type": "code",
   "execution_count": 8,
   "metadata": {},
   "outputs": [
    {
     "data": {
      "text/plain": [
       "year\n",
       "2010    171384\n",
       "2011     88406\n",
       "208          1\n",
       "nan         20\n",
       "dtype: int64"
      ]
     },
     "execution_count": 8,
     "metadata": {},
     "output_type": "execute_result"
    }
   ],
   "source": [
    "myfil.groupby('year').size()"
   ]
  },
  {
   "cell_type": "code",
   "execution_count": 11,
   "metadata": {},
   "outputs": [],
   "source": [
    "new_year=myfil.groupby('year').size()\n",
    "year=dict(new_year)\n"
   ]
  },
  {
   "cell_type": "code",
   "execution_count": 12,
   "metadata": {},
   "outputs": [
    {
     "name": "stdout",
     "output_type": "stream",
     "text": [
      "{'2010': 171384, '2011': 88406, '208': 1, 'nan': 20}\n"
     ]
    }
   ],
   "source": [
    "print(year)"
   ]
  },
  {
   "cell_type": "code",
   "execution_count": 13,
   "metadata": {},
   "outputs": [],
   "source": [
    "array=np.array(list(year.items()))"
   ]
  },
  {
   "cell_type": "code",
   "execution_count": 14,
   "metadata": {},
   "outputs": [
    {
     "name": "stdout",
     "output_type": "stream",
     "text": [
      "[['2010' '171384']\n",
      " ['2011' '88406']\n",
      " ['208' '1']\n",
      " ['nan' '20']]\n"
     ]
    }
   ],
   "source": [
    "print(array)"
   ]
  },
  {
   "cell_type": "code",
   "execution_count": 17,
   "metadata": {},
   "outputs": [
    {
     "data": {
      "text/plain": [
       "<BarContainer object of 4 artists>"
      ]
     },
     "execution_count": 17,
     "metadata": {},
     "output_type": "execute_result"
    },
    {
     "data": {
      "image/png": "[encoded data removed]",
      "text/plain": [
       "<Figure size 432x288 with 1 Axes>"
      ]
     },
     "metadata": {
      "needs_background": "light"
     },
     "output_type": "display_data"
    }
   ],
   "source": [
    "plt.bar(list(year.keys()), list(year.values()), align='center')\n"
   ]
  },
  {
   "cell_type": "code",
   "execution_count": 3,
   "metadata": {},
   "outputs": [
    {
     "ename": "NameError",
     "evalue": "name 'year' is not defined",
     "output_type": "error",
     "traceback": [
      "\u001b[1;31m---------------------------------------------------------------------------\u001b[0m",
      "\u001b[1;31mNameError\u001b[0m                                 Traceback (most recent call last)",
      "\u001b[1;32m<ipython-input-3-c306f976ecb3>\u001b[0m in \u001b[0;36m<module>\u001b[1;34m\u001b[0m\n\u001b[1;32m----> 1\u001b[1;33m \u001b[0mplt\u001b[0m\u001b[1;33m.\u001b[0m\u001b[0mbar\u001b[0m\u001b[1;33m(\u001b[0m\u001b[0mlist\u001b[0m\u001b[1;33m(\u001b[0m\u001b[0myear\u001b[0m\u001b[1;33m.\u001b[0m\u001b[0mkeys\u001b[0m\u001b[1;33m(\u001b[0m\u001b[1;33m)\u001b[0m\u001b[1;33m)\u001b[0m\u001b[1;33m,\u001b[0m \u001b[0mlist\u001b[0m\u001b[1;33m(\u001b[0m\u001b[0myear\u001b[0m\u001b[1;33m.\u001b[0m\u001b[0mvalues\u001b[0m\u001b[1;33m(\u001b[0m\u001b[1;33m)\u001b[0m\u001b[1;33m)\u001b[0m\u001b[1;33m,\u001b[0m \u001b[0malign\u001b[0m\u001b[1;33m=\u001b[0m\u001b[1;34m'center'\u001b[0m\u001b[1;33m)\u001b[0m\u001b[1;33m\u001b[0m\u001b[1;33m\u001b[0m\u001b[0m\n\u001b[0m",
      "\u001b[1;31mNameError\u001b[0m: name 'year' is not defined"
     ]
    }
   ],
   "source": [
    "plt.bar(list(year.keys()), list(year.values()), align='center')"
   ]
  },
  {
   "cell_type": "code",
   "execution_count": null,
   "metadata": {},
   "outputs": [],
   "source": []
  }
 ],
 "metadata": {
  "kernelspec": {
   "display_name": "Python 3",
   "language": "python",
   "name": "python3"
  },
  "language_info": {
   "codemirror_mode": {
    "name": "ipython",
    "version": 3
   },
   "file_extension": ".py",
   "mimetype": "text/x-python",
   "name": "python",
   "nbconvert_exporter": "python",
   "pygments_lexer": "ipython3",
   "version": "3.7.1"
  }
 },
 "nbformat": 4,
 "nbformat_minor": 2
}
