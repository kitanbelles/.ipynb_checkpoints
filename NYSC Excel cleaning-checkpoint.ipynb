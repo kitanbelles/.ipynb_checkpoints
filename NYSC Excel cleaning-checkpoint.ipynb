{
 "cells": [
  {
   "cell_type": "markdown",
   "metadata": {},
   "source": [
    "We already cleaned the data using excel and SQL. \n",
    "Here, I'm checking for duplicates in the statecode, callup and cns columns. \n",
    "The result is stored in an excel file, duplicate records. \n",
    "I am taking a break to catch up with my colleagues on vue JS and also learn how to build a predictive model out of the data. \n",
    "I intend to come back to this data later, say early March, to apply what I would have learnt so far in data science. \n",
    "There's some extra code at the end, about plotting graphs with matplotlib. Feel free to onlook that or if you so wish, use it to make graphs. The data is in a clean state now so analyze away!\n",
    "See you later! "
   ]
  },
  {
   "cell_type": "code",
   "execution_count": 2,
   "metadata": {},
   "outputs": [],
   "source": [
    "%config IPCompleter.greedy=True\n",
    "\n",
    "import numpy as np \n",
    "import pandas as pd \n",
    "import matplotlib.pyplot as plt\n",
    "from matplotlib.ticker import MaxNLocator\n",
    "from collections import namedtuple"
   ]
  },
  {
   "cell_type": "code",
   "execution_count": 4,
   "metadata": {},
   "outputs": [],
   "source": [
    "#reading my file\n",
    "\n",
    "df=pd.concat([pd.read_excel(\"NYSC workable.xlsx\", sheet_name=i, index_col= 'index', dtype={\"name\": str,\"statecode\": str,\"callupno\": str, \"cns_no\": str,\"year\": str,\"full_callup\": str})\n",
    "             for i in range(0,5)], sort = False)"
   ]
  },
  {
   "cell_type": "code",
   "execution_count": 3,
   "metadata": {},
   "outputs": [
    {
     "name": "stdout",
     "output_type": "stream",
     "text": [
      "sn               True\n",
      "name             True\n",
      "statecode        True\n",
      "callupno         True\n",
      "cns_no           True\n",
      "state            True\n",
      "sheet            True\n",
      "year             True\n",
      "batch            True\n",
      "full_callup      True\n",
      "deployedstate    True\n",
      "dtype: bool\n",
      "sn               True\n",
      "name             True\n",
      "statecode        True\n",
      "callupno         True\n",
      "cns_no           True\n",
      "state            True\n",
      "sheet            True\n",
      "year             True\n",
      "batch            True\n",
      "full_callup      True\n",
      "deployedstate    True\n",
      "dtype: bool\n",
      "sn               True\n",
      "name             True\n",
      "statecode        True\n",
      "callupno         True\n",
      "cns_no           True\n",
      "state            True\n",
      "sheet            True\n",
      "year             True\n",
      "batch            True\n",
      "full_callup      True\n",
      "deployedstate    True\n",
      "dtype: bool\n",
      "sn               True\n",
      "name             True\n",
      "statecode        True\n",
      "callupno         True\n",
      "cns_no           True\n",
      "state            True\n",
      "sheet            True\n",
      "year             True\n",
      "batch            True\n",
      "full_callup      True\n",
      "deployedstate    True\n",
      "dtype: bool\n"
     ]
    }
   ],
   "source": [
    "# Checking for duplicate records\n",
    "\n",
    "dupstatecode=df[df.duplicated(\"statecode\", keep=False)]\n",
    "\n",
    "dupfullcallup=df[df.duplicated(\"full_callup\", keep=False)]\n",
    "\n",
    "dupcallup=df[df.duplicated(\"callupno\", keep=False)]\n",
    "\n",
    "dupcert=df[df.duplicated(\"cns_no\", keep=False)]\n",
    "\n",
    "print(dupstatecode.any())\n",
    "print(dupfullcallup.any())\n",
    "print(dupcallup.any())\n",
    "print(dupcert.any())\n"
   ]
  },
  {
   "cell_type": "code",
   "execution_count": 4,
   "metadata": {},
   "outputs": [],
   "source": [
    "# Writing duplicate records to file\n",
    "\n",
    "with pd.ExcelWriter (\"Duplicated_records.xlsx\") as writer: \n",
    "    dupstatecode.to_excel(writer, sheet_name = \"dupStateCode\")\n",
    "    dupcert.to_excel(writer, sheet_name = \"dupCertNum\")\n",
    "    dupcallup.to_excel(writer, sheet_name = \"dupCallup\")\n",
    "    dupfullcallup.to_excel(writer, sheet_name = \"dupfullcallup\")\n",
    "    "
   ]
  },
  {
   "cell_type": "code",
   "execution_count": 5,
   "metadata": {},
   "outputs": [
    {
     "name": "stdout",
     "output_type": "stream",
     "text": [
      "(1289773, 11)\n",
      "(1073751, 11)\n"
     ]
    }
   ],
   "source": [
    "# dropping duplcates from dataframe\n",
    "\n",
    "print(df.shape)\n",
    "df2=df.drop_duplicates(subset = [\"name\",\"statecode\",\"callupno\",\"cns_no\"], keep=False, inplace=False)\n",
    "print(df2.shape)"
   ]
  },
  {
   "cell_type": "code",
   "execution_count": 6,
   "metadata": {},
   "outputs": [],
   "source": [
    "# writing dataframe without duplicates to new file\n",
    "\n",
    "with pd.ExcelWriter (\"intNYSC.xlsx\") as writer:\n",
    "    df2[:536875].to_excel(writer, sheet_name=\"sheet1\")\n",
    "    df2[536875:].to_excel(writer, sheet_name=\"sheet2\")"
   ]
  },
  {
   "cell_type": "code",
   "execution_count": 6,
   "metadata": {},
   "outputs": [],
   "source": [
    "year_dict = df.groupby('year').size()\n",
    "years=dict(year_dict)"
   ]
  },
  {
   "cell_type": "code",
   "execution_count": 7,
   "metadata": {},
   "outputs": [
    {
     "name": "stdout",
     "output_type": "stream",
     "text": [
      "{'2010': 170743, '2011': 128506, '2012': 213646, '2013': 200470, '2014': 220957, '2015': 235192, '2016': 120258, '2023': 1}\n"
     ]
    }
   ],
   "source": [
    "print(years)"
   ]
  },
  {
   "cell_type": "code",
   "execution_count": 8,
   "metadata": {},
   "outputs": [
    {
     "data": {
      "text/plain": [
       "<BarContainer object of 8 artists>"
      ]
     },
     "execution_count": 8,
     "metadata": {},
     "output_type": "execute_result"
    },
    {
     "data": {
      "image/png": "[encoded data removed]",
      "text/plain": [
       "<Figure size 432x288 with 1 Axes>"
      ]
     },
     "metadata": {
      "needs_background": "light"
     },
     "output_type": "display_data"
    }
   ],
   "source": [
    "%matplotlib inline\n",
    "plt.bar(list(years.keys()), list(years.values()), align='center')\n"
   ]
  },
  {
   "cell_type": "code",
   "execution_count": null,
   "metadata": {},
   "outputs": [],
   "source": []
  }
 ],
 "metadata": {
  "kernelspec": {
   "display_name": "Python 3",
   "language": "python",
   "name": "python3"
  },
  "language_info": {
   "codemirror_mode": {
    "name": "ipython",
    "version": 3
   },
   "file_extension": ".py",
   "mimetype": "text/x-python",
   "name": "python",
   "nbconvert_exporter": "python",
   "pygments_lexer": "ipython3",
   "version": "3.7.1"
  }
 },
 "nbformat": 4,
 "nbformat_minor": 2
}
