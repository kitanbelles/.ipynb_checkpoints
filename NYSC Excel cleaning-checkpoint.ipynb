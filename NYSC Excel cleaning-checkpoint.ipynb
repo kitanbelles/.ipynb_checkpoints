{
 "cells": [
  {
   "cell_type": "markdown",
   "metadata": {},
   "source": [
    "We already cleaned the data using excel and SQL. \n",
    "Here, I'm checking for duplicates in the statecode, callup and cns columns. \n",
    "The result is stored in an excel file, duplicate records. \n",
    "I am taking a break to catch up with my colleagues on vue JS and also learn how to build a predictive model out of the data. \n",
    "I intend to come back to this data later, say early March, to apply what I would have learnt so far in data science. \n",
    "There's some extra code at the end, about plotting graphs with matplotlib. Feel free to onlook that or if you so wish, use it to make graphs. The data is in a clean state now so analyze away!\n",
    "See you later! "
   ]
  },
  {
   "cell_type": "code",
   "execution_count": 1,
   "metadata": {},
   "outputs": [],
   "source": [
    "%config IPCompleter.greedy=True\n",
    "\n",
    "import numpy as np \n",
    "import pandas as pd \n",
    "import matplotlib.pyplot as plt\n",
    "from matplotlib.ticker import MaxNLocator\n",
    "from collections import namedtuple"
   ]
  },
  {
   "cell_type": "code",
   "execution_count": 58,
   "metadata": {},
   "outputs": [],
   "source": [
    "#reading my file\n",
    "\n",
    "df=pd.concat([pd.read_excel(\"NYSC workable.xlsx\", sheet_name=i, index_col= 'index', dtype={\"name\": str,\"statecode\": str,\"callupno\": str, \"cns_no\": str,\"year\": str,\"full_callup\": str})\n",
    "             for i in range(0,5)], sort = False)"
   ]
  },
  {
   "cell_type": "code",
   "execution_count": 59,
   "metadata": {},
   "outputs": [],
   "source": [
    "# Checking for duplicate records\n",
    "\n",
    "dupstatecode=df[df.duplicated(\"statecode\", keep=False)]\n",
    "\n",
    "dupfullcallup=df[df.duplicated(\"full_callup\", keep=False)]\n",
    "\n",
    "dupcallup=df[df.duplicated(\"callupno\", keep=False)]\n",
    "\n",
    "dupcert=df[df.duplicated(\"cns_no\", keep=False)]\n",
    "\n",
    "print(dupstatecode.any())\n",
    "print(dupfullcallup.any())\n",
    "print(dupcallup.any())\n",
    "print(dupcert.any())\n"
   ]
  },
  {
   "cell_type": "code",
   "execution_count": 45,
   "metadata": {},
   "outputs": [],
   "source": [
    "# Writing duplicate records to file\n",
    "\n",
    "with pd.ExcelWriter (\"Duplicated_records.xlsx\") as writer: \n",
    "    dupstatecode.to_excel(writer, sheet_name = \"dupStateCode\")\n",
    "    dupcert.to_excel(writer, sheet_name = \"dupCertNum\")\n",
    "    dupcallup.to_excel(writer, sheet_name = \"dupCallup\")\n",
    "    dupfullcallup.to_excel(writer, sheet_name = \"dupfullcallup\")\n",
    "    "
   ]
  },
  {
   "cell_type": "code",
   "execution_count": 60,
   "metadata": {},
   "outputs": [
    {
     "name": "stdout",
     "output_type": "stream",
     "text": [
      "(1289773, 11)\n",
      "(1073751, 11)\n"
     ]
    }
   ],
   "source": [
    "# dropping duplcates from dataframe\n",
    "\n",
    "print(df.shape)\n",
    "df2=df.drop_duplicates(subset = [\"name\",\"statecode\",\"callupno\",\"cns_no\"], keep=False, inplace=False)\n",
    "print(df2.shape)"
   ]
  },
  {
   "cell_type": "code",
   "execution_count": 56,
   "metadata": {},
   "outputs": [],
   "source": [
    "# writing dataframe without duplicates to new file\n",
    "\n",
    "with pd.ExcelWriter (\"intNYSC.xlsx\") as writer:\n",
    "    df2[:536875].to_excel(writer, sheet_name=\"sheet1\")\n",
    "    df2[536875:].to_excel(writer, sheet_name=\"sheet2\")"
   ]
  },
  {
   "cell_type": "code",
   "execution_count": 2,
   "metadata": {
    "scrolled": true
   },
   "outputs": [
    {
     "data": {
      "image/png": "[encoded data removed]",
      "text/plain": [
       "<Figure size 432x288 with 1 Axes>"
      ]
     },
     "metadata": {
      "needs_background": "light"
     },
     "output_type": "display_data"
    }
   ],
   "source": [
    "n_groups = 5\n",
    "\n",
    "means_men = (20, 35, 30, 35, 27)\n",
    "std_men = (2, 3, 4, 1, 2)\n",
    "\n",
    "means_women = (25, 32, 34, 20, 25)\n",
    "std_women = (3, 5, 2, 3, 3)\n",
    "\n",
    "fig, ax = plt.subplots()\n",
    "\n",
    "index = np.arange(n_groups)\n",
    "bar_width = 0.35\n",
    "\n",
    "opacity = 0.4\n",
    "error_config = {'ecolor': '0.3'}\n",
    "\n",
    "rects1 = ax.bar(index, means_men, bar_width,\n",
    "                alpha=opacity, color='b',\n",
    "                yerr=std_men, error_kw=error_config,\n",
    "                label='Men')\n",
    "\n",
    "rects2 = ax.bar(index + bar_width, means_women, bar_width,\n",
    "                alpha=opacity, color='r',\n",
    "                yerr=std_women, error_kw=error_config,\n",
    "                label='Women')\n",
    "\n",
    "ax.set_xlabel('Group')\n",
    "ax.set_ylabel('Scores')\n",
    "ax.set_title('Scores by group and gender')\n",
    "ax.set_xticks(index + bar_width / 2)\n",
    "ax.set_xticklabels(('A', 'B', 'C', 'D', 'E'))\n",
    "ax.legend()\n",
    "\n",
    "fig.tight_layout()\n",
    "plt.show()"
   ]
  },
  {
   "cell_type": "code",
   "execution_count": 64,
   "metadata": {},
   "outputs": [],
   "source": [
    "new_year = df.groupby('year').size()\n",
    "year=dict(new_year)"
   ]
  },
  {
   "cell_type": "code",
   "execution_count": 65,
   "metadata": {},
   "outputs": [
    {
     "name": "stdout",
     "output_type": "stream",
     "text": [
      "{'2010': 170743, '2011': 128506, '2012': 213646, '2013': 200470, '2014': 220957, '2015': 235192, '2016': 120258, '2023': 1}\n"
     ]
    }
   ],
   "source": [
    "print(year)"
   ]
  },
  {
   "cell_type": "code",
   "execution_count": 66,
   "metadata": {},
   "outputs": [
    {
     "data": {
      "text/plain": [
       "<BarContainer object of 8 artists>"
      ]
     },
     "execution_count": 66,
     "metadata": {},
     "output_type": "execute_result"
    },
    {
     "data": {
      "image/png": "[encoded data removed]",
      "text/plain": [
       "<Figure size 432x288 with 1 Axes>"
      ]
     },
     "metadata": {
      "needs_background": "light"
     },
     "output_type": "display_data"
    }
   ],
   "source": [
    "plt.bar(list(year.keys()), list(year.values()), align='center')\n"
   ]
  },
  {
   "cell_type": "code",
   "execution_count": null,
   "metadata": {},
   "outputs": [],
   "source": []
  }
 ],
 "metadata": {
  "kernelspec": {
   "display_name": "Python 3",
   "language": "python",
   "name": "python3"
  },
  "language_info": {
   "codemirror_mode": {
    "name": "ipython",
    "version": 3
   },
   "file_extension": ".py",
   "mimetype": "text/x-python",
   "name": "python",
   "nbconvert_exporter": "python",
   "pygments_lexer": "ipython3",
   "version": "3.7.1"
  }
 },
 "nbformat": 4,
 "nbformat_minor": 2
}
